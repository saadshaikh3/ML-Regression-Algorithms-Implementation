{
 "cells": [
  {
   "cell_type": "code",
   "execution_count": 1,
   "metadata": {},
   "outputs": [],
   "source": [
    "import pandas as pd #For data related tasks\n",
    "import matplotlib.pyplot as plt #for data visualization \n",
    "import numpy as np\n",
    "from scipy import stats\n",
    "from sklearn.metrics import r2_score, mean_squared_error\n",
    "import seaborn as sns\n",
    "from sklearn.model_selection import train_test_split"
   ]
  },
  {
   "cell_type": "markdown",
   "metadata": {},
   "source": [
    "# New York Stock Price Dataset"
   ]
  },
  {
   "cell_type": "code",
   "execution_count": 2,
   "metadata": {},
   "outputs": [
    {
     "data": {
      "text/html": [
       "<div>\n",
       "<style scoped>\n",
       "    .dataframe tbody tr th:only-of-type {\n",
       "        vertical-align: middle;\n",
       "    }\n",
       "\n",
       "    .dataframe tbody tr th {\n",
       "        vertical-align: top;\n",
       "    }\n",
       "\n",
       "    .dataframe thead th {\n",
       "        text-align: right;\n",
       "    }\n",
       "</style>\n",
       "<table border=\"1\" class=\"dataframe\">\n",
       "  <thead>\n",
       "    <tr style=\"text-align: right;\">\n",
       "      <th></th>\n",
       "      <th>date</th>\n",
       "      <th>symbol</th>\n",
       "      <th>open</th>\n",
       "      <th>close</th>\n",
       "      <th>low</th>\n",
       "      <th>high</th>\n",
       "      <th>volume</th>\n",
       "    </tr>\n",
       "  </thead>\n",
       "  <tbody>\n",
       "    <tr>\n",
       "      <th>0</th>\n",
       "      <td>2016-01-05</td>\n",
       "      <td>WLTW</td>\n",
       "      <td>123.430000</td>\n",
       "      <td>125.839996</td>\n",
       "      <td>122.309998</td>\n",
       "      <td>126.250000</td>\n",
       "      <td>2163600.0</td>\n",
       "    </tr>\n",
       "    <tr>\n",
       "      <th>1</th>\n",
       "      <td>2016-01-06</td>\n",
       "      <td>WLTW</td>\n",
       "      <td>125.239998</td>\n",
       "      <td>119.980003</td>\n",
       "      <td>119.940002</td>\n",
       "      <td>125.540001</td>\n",
       "      <td>2386400.0</td>\n",
       "    </tr>\n",
       "    <tr>\n",
       "      <th>2</th>\n",
       "      <td>2016-01-07</td>\n",
       "      <td>WLTW</td>\n",
       "      <td>116.379997</td>\n",
       "      <td>114.949997</td>\n",
       "      <td>114.930000</td>\n",
       "      <td>119.739998</td>\n",
       "      <td>2489500.0</td>\n",
       "    </tr>\n",
       "    <tr>\n",
       "      <th>3</th>\n",
       "      <td>2016-01-08</td>\n",
       "      <td>WLTW</td>\n",
       "      <td>115.480003</td>\n",
       "      <td>116.620003</td>\n",
       "      <td>113.500000</td>\n",
       "      <td>117.440002</td>\n",
       "      <td>2006300.0</td>\n",
       "    </tr>\n",
       "    <tr>\n",
       "      <th>4</th>\n",
       "      <td>2016-01-11</td>\n",
       "      <td>WLTW</td>\n",
       "      <td>117.010002</td>\n",
       "      <td>114.970001</td>\n",
       "      <td>114.089996</td>\n",
       "      <td>117.330002</td>\n",
       "      <td>1408600.0</td>\n",
       "    </tr>\n",
       "  </tbody>\n",
       "</table>\n",
       "</div>"
      ],
      "text/plain": [
       "         date symbol        open       close         low        high  \\\n",
       "0  2016-01-05   WLTW  123.430000  125.839996  122.309998  126.250000   \n",
       "1  2016-01-06   WLTW  125.239998  119.980003  119.940002  125.540001   \n",
       "2  2016-01-07   WLTW  116.379997  114.949997  114.930000  119.739998   \n",
       "3  2016-01-08   WLTW  115.480003  116.620003  113.500000  117.440002   \n",
       "4  2016-01-11   WLTW  117.010002  114.970001  114.089996  117.330002   \n",
       "\n",
       "      volume  \n",
       "0  2163600.0  \n",
       "1  2386400.0  \n",
       "2  2489500.0  \n",
       "3  2006300.0  \n",
       "4  1408600.0  "
      ]
     },
     "execution_count": 2,
     "metadata": {},
     "output_type": "execute_result"
    }
   ],
   "source": [
    "dataset = pd.read_csv('prices-split-adjusted.csv')\n",
    "dataset.head()"
   ]
  },
  {
   "cell_type": "markdown",
   "metadata": {},
   "source": [
    "# Data Preprocessing"
   ]
  },
  {
   "cell_type": "code",
   "execution_count": 3,
   "metadata": {},
   "outputs": [
    {
     "data": {
      "text/plain": [
       "date      0\n",
       "symbol    0\n",
       "open      0\n",
       "close     0\n",
       "low       0\n",
       "high      0\n",
       "volume    0\n",
       "dtype: int64"
      ]
     },
     "execution_count": 3,
     "metadata": {},
     "output_type": "execute_result"
    }
   ],
   "source": [
    "#cheeck for blank values\n",
    "\n",
    "dataset.isnull().sum()"
   ]
  },
  {
   "cell_type": "code",
   "execution_count": 4,
   "metadata": {},
   "outputs": [],
   "source": [
    "#drop the duplicates and Nan values\n",
    "\n",
    "dataset.drop_duplicates(inplace = True)\n",
    "dataset.dropna(inplace = True)"
   ]
  },
  {
   "cell_type": "markdown",
   "metadata": {},
   "source": [
    "### Correlation with Heatmap"
   ]
  },
  {
   "cell_type": "code",
   "execution_count": 5,
   "metadata": {},
   "outputs": [
    {
     "data": {
      "image/png": "[encoded data removed]",
      "text/plain": [
       "<Figure size 1224x576 with 2 Axes>"
      ]
     },
     "metadata": {
      "needs_background": "light"
     },
     "output_type": "display_data"
    }
   ],
   "source": [
    "plt.figure(1 , figsize = (17 , 8))\n",
    "cor = sns.heatmap(dataset.corr(), annot = True)"
   ]
  },
  {
   "cell_type": "code",
   "execution_count": 6,
   "metadata": {},
   "outputs": [],
   "source": [
    "#specifying the input features and outputs\n",
    "\n",
    "predictors = dataset.loc[:,'close':'volume']\n",
    "target = dataset.loc[:,'open']"
   ]
  },
  {
   "cell_type": "code",
   "execution_count": 7,
   "metadata": {},
   "outputs": [
    {
     "name": "stdout",
     "output_type": "stream",
     "text": [
      "(851264, 4)\n",
      "(851264,)\n"
     ]
    }
   ],
   "source": [
    "print(predictors.shape)\n",
    "print(target.shape)"
   ]
  },
  {
   "cell_type": "code",
   "execution_count": 8,
   "metadata": {},
   "outputs": [],
   "source": [
    "#removing outliers\n",
    "predictors = predictors[(np.abs(stats.zscore(predictors)) < 2.5).all(axis = 1)]\n",
    "\n",
    "#arranging according output records according to the new input records\n",
    "target= target.loc[predictors.index]"
   ]
  },
  {
   "cell_type": "code",
   "execution_count": 9,
   "metadata": {},
   "outputs": [
    {
     "name": "stdout",
     "output_type": "stream",
     "text": [
      "(820000, 4)\n",
      "(820000,)\n"
     ]
    }
   ],
   "source": [
    "#new set of input features and outputs\n",
    "\n",
    "print(predictors.shape)\n",
    "print(target.shape)"
   ]
  },
  {
   "cell_type": "code",
   "execution_count": 10,
   "metadata": {},
   "outputs": [
    {
     "name": "stdout",
     "output_type": "stream",
     "text": [
      "        close         low        high     volume\n",
      "0  125.839996  122.309998  126.250000  2163600.0\n",
      "1  119.980003  119.940002  125.540001  2386400.0\n",
      "2  114.949997  114.930000  119.739998  2489500.0\n",
      "3  116.620003  113.500000  117.440002  2006300.0\n",
      "4  114.970001  114.089996  117.330002  1408600.0\n",
      "-------------------------\n",
      "-------------------------\n",
      "0    123.430000\n",
      "1    125.239998\n",
      "2    116.379997\n",
      "3    115.480003\n",
      "4    117.010002\n",
      "Name: open, dtype: float64\n"
     ]
    }
   ],
   "source": [
    "print(predictors.head())\n",
    "print(\"-------------------------\\n-------------------------\")\n",
    "print(target.head())"
   ]
  },
  {
   "cell_type": "markdown",
   "metadata": {},
   "source": [
    "## Train Test Split"
   ]
  },
  {
   "cell_type": "code",
   "execution_count": 11,
   "metadata": {},
   "outputs": [
    {
     "name": "stdout",
     "output_type": "stream",
     "text": [
      "(656000, 4)\n",
      "(164000, 4)\n",
      "(656000,)\n",
      "(164000,)\n"
     ]
    }
   ],
   "source": [
    "#Splitting the data\n",
    "\n",
    "X_train,X_test,Y_train,Y_test = train_test_split(predictors,target,test_size=0.20,random_state=0)\n",
    "print(X_train.shape)\n",
    "print(X_test.shape)\n",
    "print(Y_train.shape)\n",
    "print(Y_test.shape)"
   ]
  },
  {
   "cell_type": "markdown",
   "metadata": {},
   "source": [
    "# Implementation of Algorithms and finding Predictions"
   ]
  },
  {
   "cell_type": "markdown",
   "metadata": {},
   "source": [
    "## Linear Regression"
   ]
  },
  {
   "cell_type": "code",
   "execution_count": 12,
   "metadata": {},
   "outputs": [],
   "source": [
    "from sklearn.linear_model import LinearRegression"
   ]
  },
  {
   "cell_type": "code",
   "execution_count": 13,
   "metadata": {},
   "outputs": [],
   "source": [
    "lr = LinearRegression().fit(X_train, Y_train)"
   ]
  },
  {
   "cell_type": "code",
   "execution_count": 14,
   "metadata": {},
   "outputs": [
    {
     "name": "stdout",
     "output_type": "stream",
     "text": [
      "lr.coef_: [-5.93528709e-01  7.58688010e-01  8.34381271e-01 -1.52991357e-10]\n",
      "---------------------------------------------------\n",
      "lr.intercept_: 0.00014654401191904753\n",
      "---------------------------------------------------\n",
      "Training set score: 1.00\n",
      "---------------------------------------------------\n",
      "Test set score: 1.00\n",
      "---------------------------------------------------\n"
     ]
    }
   ],
   "source": [
    "print(\"lr.coef_: {}\".format(lr.coef_))\n",
    "print(\"---------------------------------------------------\")\n",
    "print(\"lr.intercept_: {}\".format(lr.intercept_))\n",
    "print(\"---------------------------------------------------\")\n",
    "print(\"Training set score: {:.2f}\".format(lr.score(X_train, Y_train)))\n",
    "print(\"---------------------------------------------------\")\n",
    "print(\"Test set score: {:.2f}\".format(lr.score(X_test, Y_test)))\n",
    "print(\"---------------------------------------------------\")"
   ]
  },
  {
   "cell_type": "code",
   "execution_count": 15,
   "metadata": {},
   "outputs": [
    {
     "name": "stdout",
     "output_type": "stream",
     "text": [
      "Test set predictions:\n",
      "[ 26.43523541  42.8936017   83.63084757 ... 187.83763336  29.4898458\n",
      "  49.8849894 ]\n",
      "---------------------------------------------------\n",
      "Test set R^2: 1.00\n",
      "---------------------------------------------------\n",
      "Test set and Prediction R^2: 0.9998705687997207\n",
      "---------------------------------------------------\n",
      "Root Mean Square Error: 0.4342339121908846\n",
      "---------------------------------------------------\n",
      "Mean Relative Error:  0.00479718625594931\n",
      "---------------------------------------------------\n"
     ]
    }
   ],
   "source": [
    "Y_pred=lr.predict(X_test)\n",
    "\n",
    "print(\"Test set predictions:\\n{}\".format(Y_pred))\n",
    "print(\"---------------------------------------------------\")\n",
    "print(\"Test set R^2: {:.2f}\".format(lr.score(X_test, Y_test)))\n",
    "print(\"---------------------------------------------------\")\n",
    "print(f\"Test set and Prediction R^2: {r2_score(Y_test, Y_pred)}\")\n",
    "print(\"---------------------------------------------------\")\n",
    "print(f\"Root Mean Square Error: {np.sqrt(mean_squared_error(Y_test, Y_pred))}\")\n",
    "print(\"---------------------------------------------------\")\n",
    "mre = (1/len(Y_test))*(np.sum(np.abs(Y_pred - Y_test)/Y_test))\n",
    "print(\"Mean Relative Error: \", mre)\n",
    "print(\"---------------------------------------------------\")"
   ]
  },
  {
   "cell_type": "code",
   "execution_count": 16,
   "metadata": {},
   "outputs": [
    {
     "data": {
      "image/png": "[encoded data removed]",
      "text/plain": [
       "<Figure size 432x288 with 1 Axes>"
      ]
     },
     "metadata": {
      "needs_background": "light"
     },
     "output_type": "display_data"
    }
   ],
   "source": [
    "plt.scatter(Y_test, Y_pred)\n",
    "plt.xlabel(\"True Values\")\n",
    "plt.ylabel(\"Predictions\")\n",
    "plt.show()"
   ]
  },
  {
   "cell_type": "markdown",
   "metadata": {},
   "source": [
    "## KNN Regression"
   ]
  },
  {
   "cell_type": "markdown",
   "metadata": {},
   "source": [
    "### k=1"
   ]
  },
  {
   "cell_type": "code",
   "execution_count": 17,
   "metadata": {},
   "outputs": [],
   "source": [
    "from sklearn.neighbors import KNeighborsRegressor"
   ]
  },
  {
   "cell_type": "code",
   "execution_count": 18,
   "metadata": {},
   "outputs": [
    {
     "name": "stdout",
     "output_type": "stream",
     "text": [
      "---------------------------------------------------\n",
      "Training set score: 1.00\n",
      "---------------------------------------------------\n",
      "Test set score: 0.80\n",
      "---------------------------------------------------\n"
     ]
    }
   ],
   "source": [
    "reg = KNeighborsRegressor(n_neighbors=1)\n",
    "\n",
    "# fit the model using the training data and training targets\n",
    "reg.fit(X_train, Y_train)\n",
    "\n",
    "\n",
    "print(\"---------------------------------------------------\")\n",
    "print(\"Training set score: {:.2f}\".format(reg.score(X_train, Y_train)))\n",
    "print(\"---------------------------------------------------\")\n",
    "print(\"Test set score: {:.2f}\".format(reg.score(X_test, Y_test)))\n",
    "print(\"---------------------------------------------------\")"
   ]
  },
  {
   "cell_type": "code",
   "execution_count": 19,
   "metadata": {},
   "outputs": [
    {
     "name": "stdout",
     "output_type": "stream",
     "text": [
      "Test set predictions:\n",
      "[ 63.032856  48.48      52.849998 ... 184.199997  10.02      50.09    ]\n",
      "---------------------------------------------------\n",
      "Test set R^2: 0.80\n",
      "---------------------------------------------------\n",
      "Test set and Prediction R^2: 0.8008634414446046\n",
      "---------------------------------------------------\n",
      "Root Mean Square Error: 17.032552912866343\n",
      "---------------------------------------------------\n",
      "Mean Relative Error:  0.25926782129403786\n",
      "---------------------------------------------------\n"
     ]
    }
   ],
   "source": [
    "Y_pred=reg.predict(X_test)\n",
    "\n",
    "print(\"Test set predictions:\\n{}\".format(Y_pred))\n",
    "print(\"---------------------------------------------------\")\n",
    "print(\"Test set R^2: {:.2f}\".format(reg.score(X_test, Y_test)))\n",
    "print(\"---------------------------------------------------\")\n",
    "print(f\"Test set and Prediction R^2: {r2_score(Y_test, Y_pred)}\")\n",
    "print(\"---------------------------------------------------\")\n",
    "print(f\"Root Mean Square Error: {np.sqrt(mean_squared_error(Y_test, Y_pred))}\")\n",
    "print(\"---------------------------------------------------\")\n",
    "mre = (1/len(Y_test))*(np.sum(np.abs(Y_pred - Y_test)/Y_test))\n",
    "print(\"Mean Relative Error: \", mre)\n",
    "print(\"---------------------------------------------------\")"
   ]
  },
  {
   "cell_type": "code",
   "execution_count": 20,
   "metadata": {},
   "outputs": [
    {
     "data": {
      "image/png": "[encoded data removed]",
      "text/plain": [
       "<Figure size 432x288 with 1 Axes>"
      ]
     },
     "metadata": {
      "needs_background": "light"
     },
     "output_type": "display_data"
    }
   ],
   "source": [
    "plt.scatter(Y_test, Y_pred)\n",
    "plt.xlabel(\"True Values\")\n",
    "plt.ylabel(\"Predictions\")\n",
    "plt.show()"
   ]
  },
  {
   "cell_type": "markdown",
   "metadata": {},
   "source": [
    "### k=3"
   ]
  },
  {
   "cell_type": "code",
   "execution_count": 26,
   "metadata": {},
   "outputs": [
    {
     "name": "stdout",
     "output_type": "stream",
     "text": [
      "---------------------------------------------------\n",
      "Training set score: 0.91\n",
      "---------------------------------------------------\n",
      "Test set score: 0.78\n",
      "---------------------------------------------------\n"
     ]
    }
   ],
   "source": [
    "reg = KNeighborsRegressor(n_neighbors=3)\n",
    "\n",
    "# fit the model using the training data and training targets\n",
    "reg.fit(X_train, Y_train)\n",
    "\n",
    "\n",
    "print(\"---------------------------------------------------\")\n",
    "print(\"Training set score: {:.2f}\".format(reg.score(X_train, Y_train)))\n",
    "print(\"---------------------------------------------------\")\n",
    "print(\"Test set score: {:.2f}\".format(reg.score(X_test, Y_test)))\n",
    "print(\"---------------------------------------------------\")"
   ]
  },
  {
   "cell_type": "code",
   "execution_count": 27,
   "metadata": {},
   "outputs": [
    {
     "name": "stdout",
     "output_type": "stream",
     "text": [
      "Test set predictions:\n",
      "[ 36.76095167  45.05333333  33.10376877 ... 176.19666533  46.86047748\n",
      "  48.78999967]\n",
      "---------------------------------------------------\n",
      "Test set R^2: 0.78\n",
      "---------------------------------------------------\n",
      "Test set and Prediction R^2: 0.7813039828188515\n",
      "---------------------------------------------------\n",
      "Root Mean Square Error: 17.849443686116164\n",
      "---------------------------------------------------\n",
      "Mean Relative Error:  0.30006767178883376\n",
      "---------------------------------------------------\n"
     ]
    }
   ],
   "source": [
    "Y_pred=reg.predict(X_test)\n",
    "\n",
    "print(\"Test set predictions:\\n{}\".format(Y_pred))\n",
    "print(\"---------------------------------------------------\")\n",
    "print(\"Test set R^2: {:.2f}\".format(reg.score(X_test, Y_test)))\n",
    "print(\"---------------------------------------------------\")\n",
    "print(f\"Test set and Prediction R^2: {r2_score(Y_test, Y_pred)}\")\n",
    "print(\"---------------------------------------------------\")\n",
    "print(f\"Root Mean Square Error: {np.sqrt(mean_squared_error(Y_test, Y_pred))}\")\n",
    "print(\"---------------------------------------------------\")\n",
    "mre = (1/len(Y_test))*(np.sum(np.abs(Y_pred - Y_test)/Y_test))\n",
    "print(\"Mean Relative Error: \", mre)\n",
    "print(\"---------------------------------------------------\")"
   ]
  },
  {
   "cell_type": "code",
   "execution_count": 28,
   "metadata": {},
   "outputs": [
    {
     "data": {
      "image/png": "[encoded data removed]",
      "text/plain": [
       "<Figure size 432x288 with 1 Axes>"
      ]
     },
     "metadata": {
      "needs_background": "light"
     },
     "output_type": "display_data"
    }
   ],
   "source": [
    "plt.scatter(Y_test, Y_pred)\n",
    "plt.xlabel(\"True Values\")\n",
    "plt.ylabel(\"Predictions\")\n",
    "plt.show()"
   ]
  },
  {
   "cell_type": "markdown",
   "metadata": {},
   "source": [
    "### k=6"
   ]
  },
  {
   "cell_type": "code",
   "execution_count": 29,
   "metadata": {},
   "outputs": [
    {
     "name": "stdout",
     "output_type": "stream",
     "text": [
      "---------------------------------------------------\n",
      "Training set score: 0.82\n",
      "---------------------------------------------------\n",
      "Test set score: 0.72\n",
      "---------------------------------------------------\n"
     ]
    }
   ],
   "source": [
    "reg = KNeighborsRegressor(n_neighbors=6)\n",
    "\n",
    "# fit the model using the training data and training targets\n",
    "reg.fit(X_train, Y_train)\n",
    "\n",
    "\n",
    "print(\"---------------------------------------------------\")\n",
    "print(\"Training set score: {:.2f}\".format(reg.score(X_train, Y_train)))\n",
    "print(\"---------------------------------------------------\")\n",
    "print(\"Test set score: {:.2f}\".format(reg.score(X_test, Y_test)))\n",
    "print(\"---------------------------------------------------\")"
   ]
  },
  {
   "cell_type": "code",
   "execution_count": 30,
   "metadata": {},
   "outputs": [
    {
     "name": "stdout",
     "output_type": "stream",
     "text": [
      "Test set predictions:\n",
      "[ 35.44214283  49.3399995   26.64060934 ... 170.13833117  41.59357174\n",
      "  48.92666683]\n",
      "---------------------------------------------------\n",
      "Test set R^2: 0.72\n",
      "---------------------------------------------------\n",
      "Test set and Prediction R^2: 0.721052978255471\n",
      "---------------------------------------------------\n",
      "Root Mean Square Error: 20.158820254927566\n",
      "---------------------------------------------------\n",
      "Mean Relative Error:  0.3628589334905167\n",
      "---------------------------------------------------\n"
     ]
    }
   ],
   "source": [
    "Y_pred=reg.predict(X_test)\n",
    "\n",
    "print(\"Test set predictions:\\n{}\".format(Y_pred))\n",
    "print(\"---------------------------------------------------\")\n",
    "print(\"Test set R^2: {:.2f}\".format(reg.score(X_test, Y_test)))\n",
    "print(\"---------------------------------------------------\")\n",
    "print(f\"Test set and Prediction R^2: {r2_score(Y_test, Y_pred)}\")\n",
    "print(\"---------------------------------------------------\")\n",
    "print(f\"Root Mean Square Error: {np.sqrt(mean_squared_error(Y_test, Y_pred))}\")\n",
    "print(\"---------------------------------------------------\")\n",
    "mre = (1/len(Y_test))*(np.sum(np.abs(Y_pred - Y_test)/Y_test))\n",
    "print(\"Mean Relative Error: \", mre)\n",
    "print(\"---------------------------------------------------\")"
   ]
  },
  {
   "cell_type": "code",
   "execution_count": 31,
   "metadata": {},
   "outputs": [
    {
     "data": {
      "image/png": "[encoded data removed]",
      "text/plain": [
       "<Figure size 432x288 with 1 Axes>"
      ]
     },
     "metadata": {
      "needs_background": "light"
     },
     "output_type": "display_data"
    }
   ],
   "source": [
    "plt.scatter(Y_test, Y_pred)\n",
    "plt.xlabel(\"True Values\")\n",
    "plt.ylabel(\"Predictions\")\n",
    "plt.show()"
   ]
  },
  {
   "cell_type": "markdown",
   "metadata": {},
   "source": [
    "### k=9"
   ]
  },
  {
   "cell_type": "code",
   "execution_count": 32,
   "metadata": {},
   "outputs": [
    {
     "name": "stdout",
     "output_type": "stream",
     "text": [
      "---------------------------------------------------\n",
      "Training set score: 0.75\n",
      "---------------------------------------------------\n",
      "Test set score: 0.67\n",
      "---------------------------------------------------\n"
     ]
    }
   ],
   "source": [
    "reg = KNeighborsRegressor(n_neighbors=9)\n",
    "\n",
    "# fit the model using the training data and training targets\n",
    "reg.fit(X_train, Y_train)\n",
    "\n",
    "\n",
    "print(\"---------------------------------------------------\")\n",
    "print(\"Training set score: {:.2f}\".format(reg.score(X_train, Y_train)))\n",
    "print(\"---------------------------------------------------\")\n",
    "print(\"Test set score: {:.2f}\".format(reg.score(X_test, Y_test)))\n",
    "print(\"---------------------------------------------------\")"
   ]
  },
  {
   "cell_type": "code",
   "execution_count": 33,
   "metadata": {},
   "outputs": [
    {
     "name": "stdout",
     "output_type": "stream",
     "text": [
      "Test set predictions:\n",
      "[ 35.74254     47.25222211  28.6951282  ... 153.74777656  34.03904771\n",
      "  51.06      ]\n",
      "---------------------------------------------------\n",
      "Test set R^2: 0.67\n",
      "---------------------------------------------------\n",
      "Test set and Prediction R^2: 0.671183983450327\n",
      "---------------------------------------------------\n",
      "Root Mean Square: 21.886722417863563\n",
      "---------------------------------------------------\n",
      "Mean Relative Error:  0.40519166913619076\n",
      "---------------------------------------------------\n"
     ]
    }
   ],
   "source": [
    "Y_pred=reg.predict(X_test)\n",
    "\n",
    "print(\"Test set predictions:\\n{}\".format(Y_pred))\n",
    "print(\"---------------------------------------------------\")\n",
    "print(\"Test set R^2: {:.2f}\".format(reg.score(X_test, Y_test)))\n",
    "print(\"---------------------------------------------------\")\n",
    "print(f\"Test set and Prediction R^2: {r2_score(Y_test, Y_pred)}\")\n",
    "print(\"---------------------------------------------------\")\n",
    "print(f\"Root Mean Square: {np.sqrt(mean_squared_error(Y_test, Y_pred))}\")\n",
    "print(\"---------------------------------------------------\")\n",
    "mre = (1/len(Y_test))*(np.sum(np.abs(Y_pred - Y_test)/Y_test))\n",
    "print(\"Mean Relative Error: \", mre)\n",
    "print(\"---------------------------------------------------\")"
   ]
  },
  {
   "cell_type": "code",
   "execution_count": 34,
   "metadata": {},
   "outputs": [
    {
     "data": {
      "image/png": "[encoded data removed]",
      "text/plain": [
       "<Figure size 432x288 with 1 Axes>"
      ]
     },
     "metadata": {
      "needs_background": "light"
     },
     "output_type": "display_data"
    }
   ],
   "source": [
    "plt.scatter(Y_test, Y_pred)\n",
    "plt.xlabel(\"True Values\")\n",
    "plt.ylabel(\"Predictions\")\n",
    "plt.show()"
   ]
  },
  {
   "cell_type": "markdown",
   "metadata": {},
   "source": [
    "## Lasso Regression"
   ]
  },
  {
   "cell_type": "code",
   "execution_count": 35,
   "metadata": {},
   "outputs": [],
   "source": [
    "from sklearn.linear_model import Lasso"
   ]
  },
  {
   "cell_type": "code",
   "execution_count": 36,
   "metadata": {},
   "outputs": [
    {
     "name": "stdout",
     "output_type": "stream",
     "text": [
      "---------------------------------------------------\n",
      "Training set score: 1.00\n",
      "---------------------------------------------------\n",
      "Test set score: 1.00\n",
      "---------------------------------------------------\n"
     ]
    },
    {
     "name": "stderr",
     "output_type": "stream",
     "text": [
      "C:\\Users\\HP\\anaconda3\\lib\\site-packages\\sklearn\\linear_model\\_coordinate_descent.py:532: ConvergenceWarning: Objective did not converge. You might want to increase the number of iterations. Duality gap: 196674.3257008458, tolerance: 96109.8179970626\n",
      "  positive)\n"
     ]
    }
   ],
   "source": [
    "las = Lasso(alpha=1.0)\n",
    "# fit model\n",
    "las.fit(X_train, Y_train)\n",
    "\n",
    "print(\"---------------------------------------------------\")\n",
    "print(\"Training set score: {:.2f}\".format(las.score(X_train, Y_train)))\n",
    "print(\"---------------------------------------------------\")\n",
    "print(\"Test set score: {:.2f}\".format(las.score(X_test, Y_test)))\n",
    "print(\"---------------------------------------------------\")"
   ]
  },
  {
   "cell_type": "code",
   "execution_count": 37,
   "metadata": {},
   "outputs": [
    {
     "name": "stdout",
     "output_type": "stream",
     "text": [
      "Test set predictions:\n",
      "[ 26.52979095  43.09600416  80.58998713 ... 186.06103817  29.11695043\n",
      "  50.45899833]\n",
      "---------------------------------------------------\n",
      "Test set R^2: 1.00\n",
      "---------------------------------------------------\n",
      "Test set and Prediction R^2: 0.9995658107577815\n",
      "---------------------------------------------------\n",
      "Root Mean Square Error: 0.7953234311975506\n",
      "---------------------------------------------------\n",
      "Mean Relative Error:  0.00901136073197267\n",
      "---------------------------------------------------\n"
     ]
    }
   ],
   "source": [
    "Y_pred=las.predict(X_test)\n",
    "\n",
    "print(\"Test set predictions:\\n{}\".format(Y_pred))\n",
    "print(\"---------------------------------------------------\")\n",
    "print(\"Test set R^2: {:.2f}\".format(las.score(X_test, Y_test)))\n",
    "print(\"---------------------------------------------------\")\n",
    "print(f\"Test set and Prediction R^2: {r2_score(Y_test, Y_pred)}\")\n",
    "print(\"---------------------------------------------------\")\n",
    "print(f\"Root Mean Square Error: {np.sqrt(mean_squared_error(Y_test, Y_pred))}\")\n",
    "print(\"---------------------------------------------------\")\n",
    "mre = (1/len(Y_test))*(np.sum(np.abs(Y_pred - Y_test)/Y_test))\n",
    "print(\"Mean Relative Error: \", mre)\n",
    "print(\"---------------------------------------------------\")"
   ]
  },
  {
   "cell_type": "code",
   "execution_count": 38,
   "metadata": {},
   "outputs": [
    {
     "data": {
      "image/png": "[encoded data removed]",
      "text/plain": [
       "<Figure size 432x288 with 1 Axes>"
      ]
     },
     "metadata": {
      "needs_background": "light"
     },
     "output_type": "display_data"
    }
   ],
   "source": [
    "plt.scatter(Y_test, Y_pred)\n",
    "plt.xlabel(\"True Values\")\n",
    "plt.ylabel(\"Predictions\")\n",
    "plt.show()"
   ]
  },
  {
   "cell_type": "markdown",
   "metadata": {},
   "source": [
    "## Random Forest Regressor"
   ]
  },
  {
   "cell_type": "code",
   "execution_count": 39,
   "metadata": {},
   "outputs": [],
   "source": [
    "from sklearn.ensemble import RandomForestRegressor"
   ]
  },
  {
   "cell_type": "code",
   "execution_count": 40,
   "metadata": {},
   "outputs": [
    {
     "name": "stdout",
     "output_type": "stream",
     "text": [
      "---------------------------------------------------\n",
      "Training set score: 1.00\n",
      "---------------------------------------------------\n",
      "Test set score: 1.00\n",
      "---------------------------------------------------\n"
     ]
    }
   ],
   "source": [
    "rf = RandomForestRegressor(n_estimators = 100, random_state = 0)\n",
    "  \n",
    "rf.fit(X_train, Y_train)\n",
    "\n",
    "print(\"---------------------------------------------------\")\n",
    "print(\"Training set score: {:.2f}\".format(rf.score(X_train, Y_train)))\n",
    "print(\"---------------------------------------------------\")\n",
    "print(\"Test set score: {:.2f}\".format(rf.score(X_test, Y_test)))\n",
    "print(\"---------------------------------------------------\")"
   ]
  },
  {
   "cell_type": "code",
   "execution_count": 41,
   "metadata": {},
   "outputs": [
    {
     "name": "stdout",
     "output_type": "stream",
     "text": [
      "Test set predictions:\n",
      "[ 26.21349523  42.95876151  81.87409972 ... 187.43489885  29.46398551\n",
      "  49.90984052]\n",
      "---------------------------------------------------\n",
      "Test set R^2: 1.00\n",
      "---------------------------------------------------\n",
      "Test set and Prediction R^2: 0.9998637265618401\n",
      "---------------------------------------------------\n",
      "Root Mean Square: 0.44556375434430556\n",
      "---------------------------------------------------\n",
      "Mean Relative Error:  0.00494985808652769\n",
      "---------------------------------------------------\n"
     ]
    }
   ],
   "source": [
    "Y_pred=rf.predict(X_test)\n",
    "\n",
    "print(\"Test set predictions:\\n{}\".format(Y_pred))\n",
    "print(\"---------------------------------------------------\")\n",
    "print(\"Test set R^2: {:.2f}\".format(rf.score(X_test, Y_test)))\n",
    "print(\"---------------------------------------------------\")\n",
    "print(f\"Test set and Prediction R^2: {r2_score(Y_test, Y_pred)}\")\n",
    "print(\"---------------------------------------------------\")\n",
    "print(f\"Root Mean Square: {np.sqrt(mean_squared_error(Y_test, Y_pred))}\")\n",
    "print(\"---------------------------------------------------\")\n",
    "mre = (1/len(Y_test))*(np.sum(np.abs(Y_pred - Y_test)/Y_test))\n",
    "print(\"Mean Relative Error: \", mre)\n",
    "print(\"---------------------------------------------------\")"
   ]
  },
  {
   "cell_type": "code",
   "execution_count": 42,
   "metadata": {},
   "outputs": [
    {
     "data": {
      "image/png": "[encoded data removed]",
      "text/plain": [
       "<Figure size 432x288 with 1 Axes>"
      ]
     },
     "metadata": {
      "needs_background": "light"
     },
     "output_type": "display_data"
    }
   ],
   "source": [
    "plt.scatter(Y_test, Y_pred)\n",
    "plt.xlabel(\"True Values\")\n",
    "plt.ylabel(\"Predictions\")\n",
    "plt.show()"
   ]
  },
  {
   "cell_type": "markdown",
   "metadata": {},
   "source": [
    "# Support Vector Regressor"
   ]
  },
  {
   "cell_type": "code",
   "execution_count": 13,
   "metadata": {},
   "outputs": [],
   "source": [
    "# from sklearn.svm import SVR"
   ]
  },
  {
   "cell_type": "code",
   "execution_count": null,
   "metadata": {},
   "outputs": [],
   "source": [
    "# # most important SVR parameter is Kernel type. It can be #linear,polynomial or gaussian SVR. \n",
    "# #We have a non-linear condition #so we can select polynomial or gaussian \n",
    "# #but here we select RBF(a #gaussian type) kernel.\n",
    "\n",
    "# svr = SVR(kernel='rbf')\n",
    "\n",
    "# svr.fit(X_train, Y_train)\n",
    "\n",
    "# print(\"---------------------------------------------------\")\n",
    "# print(\"Training set score: {:.2f}\".format(rf.score(X_train, Y_train)))\n",
    "# print(\"---------------------------------------------------\")\n",
    "# print(\"Test set score: {:.2f}\".format(rf.score(X_test, Y_test)))\n",
    "# print(\"---------------------------------------------------\")"
   ]
  },
  {
   "cell_type": "code",
   "execution_count": null,
   "metadata": {},
   "outputs": [],
   "source": [
    "# Y_pred=svr.predict(X_test)\n",
    "\n",
    "# print(\"Test set predictions:\\n{}\".format(Y_pred))\n",
    "# print(\"---------------------------------------------------\")\n",
    "# print(\"Test set R^2: {:.2f}\".format(svr.score(X_test, Y_test)))\n",
    "# print(\"---------------------------------------------------\")\n",
    "# print(f\"r^2: {r2_score(Y_test, Y_pred)}\")\n",
    "# print(\"---------------------------------------------------\")\n",
    "# print(f\"rmse: {np.sqrt(mean_squared_error(Y_test, Y_pred))}\")\n",
    "# print(\"---------------------------------------------------\")\n",
    "# mre = (1/len(Y_test))*(np.sum(np.abs(Y_pred - Y_test)/Y_test))\n",
    "# print(\"Mean Relative Error: \", mre)\n",
    "# print(\"---------------------------------------------------\")"
   ]
  },
  {
   "cell_type": "code",
   "execution_count": null,
   "metadata": {},
   "outputs": [],
   "source": [
    "# plt.scatter(Y_test, Y_pred)\n",
    "# plt.xlabel(\"True Values\")\n",
    "# plt.ylabel(\"Predictions\")\n",
    "# plt.show()"
   ]
  },
  {
   "cell_type": "code",
   "execution_count": null,
   "metadata": {},
   "outputs": [],
   "source": []
  },
  {
   "cell_type": "markdown",
   "metadata": {},
   "source": [
    "# Cross Validations"
   ]
  },
  {
   "cell_type": "code",
   "execution_count": 48,
   "metadata": {},
   "outputs": [],
   "source": [
    "from numpy import mean\n",
    "from numpy import std\n",
    "from sklearn.model_selection import KFold\n",
    "from sklearn.model_selection import cross_val_score\n",
    "from sklearn.model_selection import LeaveOneOut\n",
    "from numpy import absolute"
   ]
  },
  {
   "cell_type": "code",
   "execution_count": 56,
   "metadata": {},
   "outputs": [
    {
     "name": "stdout",
     "output_type": "stream",
     "text": [
      "(10000, 4)\n",
      "(10000,)\n"
     ]
    }
   ],
   "source": [
    "#specifying the new input features and outputs sample for LOOCV\n",
    "\n",
    "predictors = predictors[:10000]\n",
    "target = target[:10000]\n",
    "print(predictors.shape)\n",
    "print(target.shape)"
   ]
  },
  {
   "cell_type": "code",
   "execution_count": 59,
   "metadata": {},
   "outputs": [
    {
     "name": "stdout",
     "output_type": "stream",
     "text": [
      "LINEAR REGRESSION \n",
      "\n",
      "R^2: (nan, nan)\n",
      "---------------------------------------------------\n",
      "Root Mean Square Error: (0.21991732786528193, 0.2744603538768282)\n"
     ]
    }
   ],
   "source": [
    "# cv = KFold(n_splits=10, random_state=1, shuffle=True)\n",
    "cv = LeaveOneOut()\n",
    "#create model\n",
    "lr = LinearRegression()\n",
    "\n",
    "#evaluate model\n",
    "scores= cross_val_score(lr, predictors, target, scoring='r2', cv=cv, n_jobs=-1)\n",
    "\n",
    "# force positive\n",
    "scores = absolute(scores)\n",
    "\n",
    "# report performance\n",
    "print(\"LINEAR REGRESSION \\n\")\n",
    "print(f\"R^2: {mean(scores), std(scores)}\")\n",
    "print(\"---------------------------------------------------\")\n",
    "\n",
    "scores= cross_val_score(lr, predictors, target, scoring='neg_root_mean_squared_error', cv=cv, n_jobs=-1)\n",
    "\n",
    "# force positive\n",
    "scores = absolute(scores)\n",
    "print(f\"Root Mean Square Error: {mean(scores), std(scores)}\")"
   ]
  },
  {
   "cell_type": "code",
   "execution_count": 61,
   "metadata": {},
   "outputs": [
    {
     "name": "stdout",
     "output_type": "stream",
     "text": [
      "KNN REGRESSION at K=1 \n",
      "\n",
      "R^2: (nan, nan)\n",
      "---------------------------------------------------\n",
      "Root Mean Square Error: (23.71851397314842, 25.60182822421828)\n"
     ]
    }
   ],
   "source": [
    "cv = LeaveOneOut()\n",
    "#create model\n",
    "#  AT K=1\n",
    "from sklearn.neighbors import KNeighborsRegressor\n",
    "reg = KNeighborsRegressor(n_neighbors=1)\n",
    "#evaluate model\n",
    "scores= cross_val_score(reg, predictors, target, scoring='r2', cv=cv, n_jobs=-1)\n",
    "\n",
    "# force positive\n",
    "scores = absolute(scores)\n",
    "\n",
    "# report performance\n",
    "print(\"KNN REGRESSION at K=1 \\n\")\n",
    "print(f\"R^2: {mean(scores), std(scores)}\")\n",
    "print(\"---------------------------------------------------\")\n",
    "\n",
    "scores= cross_val_score(reg, predictors, target, scoring='neg_root_mean_squared_error', cv=cv, n_jobs=-1)\n",
    "\n",
    "# force positive\n",
    "scores = absolute(scores)\n",
    "print(f\"Root Mean Square Error: {mean(scores), std(scores)}\")"
   ]
  },
  {
   "cell_type": "code",
   "execution_count": 62,
   "metadata": {},
   "outputs": [
    {
     "name": "stdout",
     "output_type": "stream",
     "text": [
      "KNN REGRESSION at K=3 \n",
      "\n",
      "R^2: (nan, nan)\n",
      "---------------------------------------------------\n",
      "Root Mean Square Error: (20.67060023822427, 21.182405923523074)\n"
     ]
    }
   ],
   "source": [
    "cv = LeaveOneOut()\n",
    "#create model\n",
    "#  AT K=3\n",
    "from sklearn.neighbors import KNeighborsRegressor\n",
    "reg = KNeighborsRegressor(n_neighbors=3)\n",
    "#evaluate model\n",
    "scores= cross_val_score(reg, predictors, target, scoring='r2', cv=cv, n_jobs=-1)\n",
    "\n",
    "# force positive\n",
    "scores = absolute(scores)\n",
    "\n",
    "# report performance\n",
    "print(\"KNN REGRESSION at K=3 \\n\")\n",
    "print(f\"R^2: {mean(scores), std(scores)}\")\n",
    "print(\"---------------------------------------------------\")\n",
    "\n",
    "scores= cross_val_score(reg, predictors, target, scoring='neg_root_mean_squared_error', cv=cv, n_jobs=-1)\n",
    "\n",
    "# force positive\n",
    "scores = absolute(scores)\n",
    "print(f\"Root Mean Square Error: {mean(scores), std(scores)}\")"
   ]
  },
  {
   "cell_type": "code",
   "execution_count": 63,
   "metadata": {},
   "outputs": [
    {
     "name": "stdout",
     "output_type": "stream",
     "text": [
      "KNN REGRESSION at K=6 \n",
      "\n",
      "R^2: (nan, nan)\n",
      "---------------------------------------------------\n",
      "Root Mean Square Error: (19.67857438480826, 20.093962760737668)\n"
     ]
    }
   ],
   "source": [
    "cv = LeaveOneOut()\n",
    "#create model\n",
    "#  AT K=6\n",
    "from sklearn.neighbors import KNeighborsRegressor\n",
    "reg = KNeighborsRegressor(n_neighbors=6)\n",
    "#evaluate model\n",
    "scores= cross_val_score(reg, predictors, target, scoring='r2', cv=cv, n_jobs=-1)\n",
    "\n",
    "# force positive\n",
    "scores = absolute(scores)\n",
    "\n",
    "# report performance\n",
    "print(\"KNN REGRESSION at K=6 \\n\")\n",
    "print(f\"R^2: {mean(scores), std(scores)}\")\n",
    "print(\"---------------------------------------------------\")\n",
    "\n",
    "scores= cross_val_score(reg, predictors, target, scoring='neg_root_mean_squared_error', cv=cv, n_jobs=-1)\n",
    "\n",
    "# force positive\n",
    "scores = absolute(scores)\n",
    "print(f\"Root Mean Square Error: {mean(scores), std(scores)}\")"
   ]
  },
  {
   "cell_type": "code",
   "execution_count": 64,
   "metadata": {},
   "outputs": [
    {
     "name": "stdout",
     "output_type": "stream",
     "text": [
      "KNN REGRESSION at K=9 \n",
      "\n",
      "R^2: (nan, nan)\n",
      "---------------------------------------------------\n",
      "Root Mean Square Error: (19.29516418549538, 19.71166931240028)\n"
     ]
    }
   ],
   "source": [
    "cv = LeaveOneOut()\n",
    "#create model\n",
    "#  AT K=9\n",
    "from sklearn.neighbors import KNeighborsRegressor\n",
    "reg = KNeighborsRegressor(n_neighbors=9)\n",
    "#evaluate model\n",
    "scores= cross_val_score(reg, predictors, target, scoring='r2', cv=cv, n_jobs=-1)\n",
    "\n",
    "# force positive\n",
    "scores = absolute(scores)\n",
    "\n",
    "# report performance\n",
    "print(\"KNN REGRESSION at K=9 \\n\")\n",
    "print(f\"R^2: {mean(scores), std(scores)}\")\n",
    "print(\"---------------------------------------------------\")\n",
    "\n",
    "scores= cross_val_score(reg, predictors, target, scoring='neg_root_mean_squared_error', cv=cv, n_jobs=-1)\n",
    "\n",
    "# force positive\n",
    "scores = absolute(scores)\n",
    "print(f\"Root Mean Square Error: {mean(scores), std(scores)}\")"
   ]
  },
  {
   "cell_type": "code",
   "execution_count": 65,
   "metadata": {},
   "outputs": [
    {
     "name": "stdout",
     "output_type": "stream",
     "text": [
      "LASSO REGRESSION \n",
      "\n",
      "R^2: (nan, nan)\n",
      "---------------------------------------------------\n",
      "Root Mean Square Error: (0.3906194130425485, 0.4806090090444637)\n"
     ]
    }
   ],
   "source": [
    "from sklearn.linear_model import Lasso\n",
    "cv = LeaveOneOut()\n",
    "#create model\n",
    "las = Lasso(alpha=1.0)\n",
    "#evaluate model\n",
    "scores= cross_val_score(las, predictors, target, scoring='r2', cv=cv, n_jobs=-1)\n",
    "\n",
    "# force positive\n",
    "scores = absolute(scores)\n",
    "\n",
    "# report performance\n",
    "print(\"LASSO REGRESSION \\n\")\n",
    "print(f\"R^2: {mean(scores), std(scores)}\")\n",
    "print(\"---------------------------------------------------\")\n",
    "\n",
    "scores= cross_val_score(las, predictors, target, scoring='neg_root_mean_squared_error', cv=cv, n_jobs=-1)\n",
    "\n",
    "# force positive\n",
    "scores = absolute(scores)\n",
    "print(f\"Root Mean Square Error: {mean(scores), std(scores)}\")"
   ]
  },
  {
   "cell_type": "code",
   "execution_count": 21,
   "metadata": {},
   "outputs": [],
   "source": [
    "# from sklearn.ensemble import RandomForestRegressor\n",
    "# cv = LeaveOneOut()\n",
    "# #create model\n",
    "# rf = RandomForestRegressor(n_estimators = 100, random_state = 0)\n",
    "# #evaluate model\n",
    "# scores= cross_val_score(rf, predictors, target, scoring='r2', cv=cv, n_jobs=-1)\n",
    "\n",
    "# # force positive\n",
    "# scores = absolute(scores)\n",
    "\n",
    "# # report performance\n",
    "# print(\"RANDOM FOREST REGRESSOR \\n\")\n",
    "# print(f\"R^2: {mean(scores), std(scores)}\")\n",
    "# print(\"---------------------------------------------------\")\n",
    "\n",
    "# scores= cross_val_score(rf, predictors, target, scoring='neg_root_mean_squared_error', cv=cv, n_jobs=-1)\n",
    "\n",
    "# # force positive\n",
    "# scores = absolute(scores)\n",
    "# print(f\"Root Mean Square Error: {mean(scores), std(scores)}\")"
   ]
  },
  {
   "cell_type": "code",
   "execution_count": null,
   "metadata": {},
   "outputs": [],
   "source": []
  }
 ],
 "metadata": {
  "kernelspec": {
   "display_name": "Python 3",
   "language": "python",
   "name": "python3"
  },
  "language_info": {
   "codemirror_mode": {
    "name": "ipython",
    "version": 3
   },
   "file_extension": ".py",
   "mimetype": "text/x-python",
   "name": "python",
   "nbconvert_exporter": "python",
   "pygments_lexer": "ipython3",
   "version": "3.7.6"
  }
 },
 "nbformat": 4,
 "nbformat_minor": 4
}
